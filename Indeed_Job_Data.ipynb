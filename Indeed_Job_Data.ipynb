{
 "cells": [
  {
   "cell_type": "code",
   "execution_count": 1,
   "id": "51801605",
   "metadata": {},
   "outputs": [],
   "source": [
    "import pandas as pd\n",
    "import time\n",
    "import random\n",
    "from parsel import Selector\n",
    "from selenium import webdriver\n",
    "from webdriver_manager.chrome import ChromeDriverManager\n",
    "from selenium.webdriver.common.keys import Keys\n",
    "from selenium.webdriver.chrome.options import Options\n",
    "from selenium.webdriver.common.by import By\n",
    "from selenium.webdriver.support import expected_conditions as ES\n",
    "from selenium.webdriver.support.wait import WebDriverWait\n",
    "import warnings\n",
    "warnings.filterwarnings(\"ignore\")"
   ]
  },
  {
   "cell_type": "code",
   "execution_count": 2,
   "id": "3a71fd17",
   "metadata": {},
   "outputs": [],
   "source": [
    "driver = webdriver.Chrome(ChromeDriverManager().install())\n",
    "driver.maximize_window()"
   ]
  },
  {
   "cell_type": "code",
   "execution_count": 3,
   "id": "4d23b1c6",
   "metadata": {},
   "outputs": [],
   "source": [
    "Job_data = []"
   ]
  },
  {
   "cell_type": "code",
   "execution_count": 1,
   "id": "bf338ccd",
   "metadata": {},
   "outputs": [],
   "source": [
    "for page in range(0,180,10):\n",
    "    \n",
    "    driver.get(f'https://in.indeed.com/jobs?q=Data+Scientist&l=Mumbai&start={page}')\n",
    "    time.sleep(2)\n",
    "\n",
    "    try:\n",
    "        close = driver.find_element(By.XPATH,'//button[@class = \"icl-CloseButton icl-Modal-close\"]')        \n",
    "        close.click()\n",
    "        \n",
    "    except:\n",
    "        pass\n",
    "    \n",
    "    jobs = driver.find_elements(By.XPATH,'//div[@class = \"css-1m4cuuf e37uo190\"]')\n",
    " \n",
    "    for job in jobs:\n",
    "        driver.execute_script(\"arguments[0].scrollIntoView()\", job);\n",
    "        job.location_once_scrolled_into_view\n",
    "        job.click()\n",
    "        time.sleep(2)\n",
    "\n",
    "        Job_title = driver.find_element(By.XPATH,'//h1[@class = \"icl-u-xs-mb--xs icl-u-xs-mt--none jobsearch-JobInfoHeader-title is-embedded\"]').text.strip()\n",
    "        title = Job_title.split('\\n')\n",
    "\n",
    "        Company = driver.find_element(By.XPATH,'//div[@class = \"jobsearch-InlineCompanyRating icl-u-xs-mt--xs icl-u-xs-mb--md\"]').text.strip()\n",
    "        company = Company.split('\\n')\n",
    "        \n",
    "\n",
    "#         Location = driver.find_element(By.XPATH,\"/html/body/main/div/div[1]/div/div/div[5]/div[2]/div/div/div/div/div[1]/div/div/div[1]/div/div[1]/div[1]/div[1]/div[2]/div/div/div/div[2]\").text.strip()\n",
    "#         Location = driver.find_element(By.XPATH,'//div[@class[string-length()=0]]').text.strip()\n",
    "        Location = driver.find_element(By.XPATH,'.//span[contains(@class,\"location\")]').text.strip()\n",
    "        location = Location.split('\\n')\n",
    "        try:\n",
    "\n",
    "            Salary = driver.find_element(By.XPATH,'//div[@id = \"salaryInfoAndJobType\"]').text.strip()\n",
    "            salary = Salary.split('a')\n",
    "\n",
    "        except:\n",
    "            salary = '-'\n",
    "\n",
    "        Job_description = driver.find_element(By.XPATH,'//div[@id = \"jobDescriptionText\"]').text.strip()\n",
    "        \n",
    "        \n",
    "        data = {'Job_title' : title[0], 'Company' : company[0], 'Location' : location[0], 'Salary' : salary[0], 'Job_description' : Job_description}\n",
    "        if data not in Job_data:\n",
    "            Job_data.append(data)"
   ]
  },
  {
   "cell_type": "code",
   "execution_count": null,
   "id": "d1981e4c",
   "metadata": {},
   "outputs": [],
   "source": [
    "df = pd.DataFrame(Job_data)"
   ]
  },
  {
   "cell_type": "code",
   "execution_count": null,
   "id": "5069f15c",
   "metadata": {},
   "outputs": [],
   "source": [
    "df"
   ]
  },
  {
   "cell_type": "code",
   "execution_count": null,
   "id": "be903512",
   "metadata": {},
   "outputs": [],
   "source": [
    "# df.to_excel('IndeedJobData.xlsx')"
   ]
  },
  {
   "cell_type": "code",
   "execution_count": null,
   "id": "51671546",
   "metadata": {},
   "outputs": [],
   "source": []
  }
 ],
 "metadata": {
  "kernelspec": {
   "display_name": "Python 3 (ipykernel)",
   "language": "python",
   "name": "python3"
  },
  "language_info": {
   "codemirror_mode": {
    "name": "ipython",
    "version": 3
   },
   "file_extension": ".py",
   "mimetype": "text/x-python",
   "name": "python",
   "nbconvert_exporter": "python",
   "pygments_lexer": "ipython3",
   "version": "3.9.12"
  }
 },
 "nbformat": 4,
 "nbformat_minor": 5
}
